{
 "cells": [
  {
   "cell_type": "code",
   "execution_count": 2,
   "metadata": {},
   "outputs": [],
   "source": [
    "import pandas as pd\n",
    "\n",
    "folder = \"data/\"\n",
    "purchases_df = pd.read_csv(folder+\"item_spend.csv\")\n",
    "activity_df = pd.read_csv(folder+\"player_activity.csv\")\n",
    "stats_df = pd.read_csv(folder+\"player_statistics.csv\")"
   ]
  },
  {
   "cell_type": "code",
   "execution_count": 12,
   "metadata": {},
   "outputs": [],
   "source": [
    "dfs = [purchases_df, activity_df, stats_df]"
   ]
  },
  {
   "cell_type": "code",
   "execution_count": 4,
   "metadata": {},
   "outputs": [
    {
     "data": {
      "text/html": [
       "<div>\n",
       "<style scoped>\n",
       "    .dataframe tbody tr th:only-of-type {\n",
       "        vertical-align: middle;\n",
       "    }\n",
       "\n",
       "    .dataframe tbody tr th {\n",
       "        vertical-align: top;\n",
       "    }\n",
       "\n",
       "    .dataframe thead th {\n",
       "        text-align: right;\n",
       "    }\n",
       "</style>\n",
       "<table border=\"1\" class=\"dataframe\">\n",
       "  <thead>\n",
       "    <tr style=\"text-align: right;\">\n",
       "      <th></th>\n",
       "      <th>account_id</th>\n",
       "      <th>platform_id</th>\n",
       "      <th>occur_date</th>\n",
       "      <th>item</th>\n",
       "      <th>item_type</th>\n",
       "      <th>item_sub_type</th>\n",
       "      <th>money_spent</th>\n",
       "    </tr>\n",
       "  </thead>\n",
       "  <tbody>\n",
       "    <tr>\n",
       "      <th>0</th>\n",
       "      <td>1295</td>\n",
       "      <td>PS4</td>\n",
       "      <td>2020-10-24</td>\n",
       "      <td>Imponte Dukes</td>\n",
       "      <td>CAR</td>\n",
       "      <td>MUSCLE</td>\n",
       "      <td>24734.421385</td>\n",
       "    </tr>\n",
       "    <tr>\n",
       "      <th>1</th>\n",
       "      <td>3820</td>\n",
       "      <td>PS4</td>\n",
       "      <td>2020-11-12</td>\n",
       "      <td>Vapid GB200</td>\n",
       "      <td>CAR</td>\n",
       "      <td>SPORTS</td>\n",
       "      <td>375005.743577</td>\n",
       "    </tr>\n",
       "    <tr>\n",
       "      <th>2</th>\n",
       "      <td>193</td>\n",
       "      <td>PS4</td>\n",
       "      <td>2020-11-27</td>\n",
       "      <td>Vulcar Warrener</td>\n",
       "      <td>CAR</td>\n",
       "      <td>SEDAN</td>\n",
       "      <td>47873.073648</td>\n",
       "    </tr>\n",
       "    <tr>\n",
       "      <th>3</th>\n",
       "      <td>4945</td>\n",
       "      <td>PS4</td>\n",
       "      <td>2020-11-27</td>\n",
       "      <td>Cheval Marshall</td>\n",
       "      <td>CAR</td>\n",
       "      <td>OFF ROAD</td>\n",
       "      <td>0.000000</td>\n",
       "    </tr>\n",
       "    <tr>\n",
       "      <th>4</th>\n",
       "      <td>4237</td>\n",
       "      <td>XBOX</td>\n",
       "      <td>2020-09-02</td>\n",
       "      <td>Albany V-STR</td>\n",
       "      <td>CAR</td>\n",
       "      <td>SPORTS</td>\n",
       "      <td>512640.830316</td>\n",
       "    </tr>\n",
       "  </tbody>\n",
       "</table>\n",
       "</div>"
      ],
      "text/plain": [
       "   account_id platform_id  occur_date             item item_type  \\\n",
       "0        1295         PS4  2020-10-24    Imponte Dukes       CAR   \n",
       "1        3820         PS4  2020-11-12      Vapid GB200       CAR   \n",
       "2         193         PS4  2020-11-27  Vulcar Warrener       CAR   \n",
       "3        4945         PS4  2020-11-27  Cheval Marshall       CAR   \n",
       "4        4237        XBOX  2020-09-02     Albany V-STR       CAR   \n",
       "\n",
       "  item_sub_type    money_spent  \n",
       "0        MUSCLE   24734.421385  \n",
       "1        SPORTS  375005.743577  \n",
       "2         SEDAN   47873.073648  \n",
       "3      OFF ROAD       0.000000  \n",
       "4        SPORTS  512640.830316  "
      ]
     },
     "execution_count": 4,
     "metadata": {},
     "output_type": "execute_result"
    }
   ],
   "source": [
    "purchases_df.head()"
   ]
  },
  {
   "cell_type": "code",
   "execution_count": 7,
   "metadata": {},
   "outputs": [
    {
     "data": {
      "text/plain": [
       "item_type\n",
       "CAR           57371\n",
       "WEAPON        54728\n",
       "PROPERTY      19662\n",
       "BIKE          11993\n",
       "HELICOPTER     4398\n",
       "PLANE          2523\n",
       "CYCLE          2331\n",
       "OTHER          1019\n",
       "BOAT            810\n",
       "TANK            297\n",
       "JET             256\n",
       "TRUCK            37\n",
       "Name: count, dtype: int64"
      ]
     },
     "execution_count": 7,
     "metadata": {},
     "output_type": "execute_result"
    }
   ],
   "source": [
    "purchases_df['item_type'].value_counts()"
   ]
  },
  {
   "cell_type": "code",
   "execution_count": 14,
   "metadata": {},
   "outputs": [
    {
     "name": "stdout",
     "output_type": "stream",
     "text": [
      "account_id          0\n",
      "platform_id         0\n",
      "occur_date          0\n",
      "item             1615\n",
      "item_type         325\n",
      "item_sub_type     481\n",
      "money_spent         0\n",
      "dtype: int64\n",
      "account_id             0\n",
      "platform_id            0\n",
      "occur_date             0\n",
      "activity_type          0\n",
      "time_spent             0\n",
      "kills                  0\n",
      "deaths                 0\n",
      "suicides               0\n",
      "money_earned           0\n",
      "rp_earned              0\n",
      "success                0\n",
      "money_vs_time_spent    0\n",
      "rp_vs_time_spent       0\n",
      "dtype: int64\n",
      "account_id          0\n",
      "platform_id         0\n",
      "occur_date          0\n",
      "ltd_days_played     0\n",
      "first_day_played    0\n",
      "evc_balance         0\n",
      "pvc_balance         0\n",
      "char_rank           0\n",
      "daily_playtime      0\n",
      "days_since_first    0\n",
      "dtype: int64\n"
     ]
    }
   ],
   "source": [
    "import numpy as np\n",
    "for df in dfs:\n",
    "    print(np.sum(df.isna(), axis = 0))"
   ]
  },
  {
   "cell_type": "code",
   "execution_count": null,
   "metadata": {},
   "outputs": [],
   "source": []
  }
 ],
 "metadata": {
  "kernelspec": {
   "display_name": "Python 3",
   "language": "python",
   "name": "python3"
  },
  "language_info": {
   "codemirror_mode": {
    "name": "ipython",
    "version": 3
   },
   "file_extension": ".py",
   "mimetype": "text/x-python",
   "name": "python",
   "nbconvert_exporter": "python",
   "pygments_lexer": "ipython3",
   "version": "3.11.9"
  }
 },
 "nbformat": 4,
 "nbformat_minor": 2
}
